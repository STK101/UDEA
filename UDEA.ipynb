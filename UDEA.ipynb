{
 "cells": [
  {
   "cell_type": "code",
   "execution_count": 1,
   "id": "d6a89db8",
   "metadata": {},
   "outputs": [],
   "source": [
    "from rsome import ro\n",
    "from rsome import norm\n",
    "import numpy as np\n",
    "import pandas as pd\n",
    "from rsome import grb_solver as grb\n",
    "import gurobipy"
   ]
  },
  {
   "cell_type": "code",
   "execution_count": 2,
   "id": "f20104ca",
   "metadata": {},
   "outputs": [],
   "source": [
    "df = pd.read_csv('period1.csv')"
   ]
  },
  {
   "cell_type": "code",
   "execution_count": 3,
   "id": "d3a4cc98",
   "metadata": {},
   "outputs": [],
   "source": [
    "def process_dataset(path):\n",
    "    df = pd.read_csv(path, index_col= 0)\n",
    "    df['Annual Return'] = df['Annual Return'].apply(lambda x : float(x[:-1]))\n",
    "    df['Total Risk'] = df['Total Risk'].apply(lambda x : float(x[:-1]))\n",
    "    df['Abs. Win Rate'] = df['Abs. Win Rate'].apply(lambda x : 100 - float(x[:-1]))\n",
    "    if(min(df['Annual Return']) < 0):\n",
    "        df['Annual Return'] -= min(df['Annual Return'])\n",
    "    X = (df[['Total Risk','Abs. Win Rate']]).values.tolist()\n",
    "    Y = (df[['Annual Return']]).values.tolist()\n",
    "    return X,Y\n",
    "\n",
    "    \n"
   ]
  },
  {
   "cell_type": "code",
   "execution_count": 7,
   "id": "ccdf1545",
   "metadata": {},
   "outputs": [],
   "source": [
    "def getABC(X,Y,i):\n",
    "    X_new = np.array(X).T #N X D\n",
    "    D = len(X_new[0])\n",
    "    Y_new = np.array(Y).T# M X D\n",
    "    y_i = Y_new[:,[i]] # in paper i from 1 to n and we won't follow it\n",
    "    x_i = X_new[:,[i]] # in paper i from 1 to n and we won't follow it\n",
    "    up = np.concatenate((-Y_new,y_i, np.zeros((len(Y_new),1))),axis=1)\n",
    "    low = np.concatenate((X_new,np.zeros((len(X_new),1)),-x_i),axis=1)\n",
    "    A = np.concatenate((up,low), axis = 0)\n",
    "    B = np.concatenate((np.ones((1,D)),np.zeros((1,1)), np.zeros((1,1))), axis = 1)\n",
    "    B = np.concatenate((B, np.zeros((1, D + 2))), axis = 0)\n",
    "    B[1,-2] = 1\n",
    "    C = np.zeros((D+2,1))\n",
    "    C[-1,0] = 1\n",
    "    return A, B, C\n",
    "\n",
    "def DEA_eff(X,Y):\n",
    "    eff_arr = []\n",
    "    D = len(X)\n",
    "    for i in range(D):\n",
    "        A,B,C = getABC(X,Y,i)\n",
    "        '''\n",
    "        if (not sigma):\n",
    "            sigma = [0.5]*len(A[0])\n",
    "        '''\n",
    "        model = ro.Model()\n",
    "        neta = model.dvar((len(X)+2))\n",
    "        #z = [model.rvar((len(X))) for i in range(len(X[0]) + len(Y[0])) ]\n",
    "        #z_set0 = (norm(z[i],2) <= 1 for i in range(len(X[0]) + len(Y[0])) )\n",
    "        model.min((C.T)[0]@neta)\n",
    "        model.st(B[0]@ neta == 1,B[1] @ neta == 1 )\n",
    "        model.st(neta >= (np.zeros(len(X)+2)))\n",
    "        for x in range(len(A)):\n",
    "            A_x = A[x]\n",
    "            I = np.eye(len(A[0]))\n",
    "            model.st(((A_x)@neta <= 0))\n",
    "            #model.st(((A_x)@neta <= 0))\n",
    "        try:\n",
    "            model.solve(grb,  display = False)\n",
    "        except gurobipy.GurobiError:\n",
    "            return -1\n",
    "        try :\n",
    "            eff = (neta.get())[-1]\n",
    "        except RuntimeError:\n",
    "            return -1\n",
    "        eff_arr.append(eff)\n",
    "    return eff_arr"
   ]
  },
  {
   "cell_type": "code",
   "execution_count": 8,
   "id": "28f9945f",
   "metadata": {},
   "outputs": [],
   "source": [
    "X, Y = process_dataset('period1.csv')"
   ]
  },
  {
   "cell_type": "code",
   "execution_count": 9,
   "id": "65bdcdcc",
   "metadata": {},
   "outputs": [
    {
     "name": "stdout",
     "output_type": "stream",
     "text": [
      "Set parameter Username\n",
      "Academic license - for non-commercial use only - expires 2024-02-16\n"
     ]
    }
   ],
   "source": [
    "eff = DEA_eff(X,Y)"
   ]
  },
  {
   "cell_type": "code",
   "execution_count": 10,
   "id": "31c3702c",
   "metadata": {},
   "outputs": [
    {
     "data": {
      "text/plain": [
       "[0.7024753281659358,\n",
       " 0.7321428571428572,\n",
       " 0.625673249551167,\n",
       " 0.5681629162351316,\n",
       " 1.0,\n",
       " 0.6324863883847549,\n",
       " 1.0,\n",
       " 0.6864740251997298,\n",
       " 0.7275534594795751,\n",
       " 0.900179872454078,\n",
       " 0.6838962390774371,\n",
       " 0.7432247341448777,\n",
       " 0.9696566486361401,\n",
       " 0.7545781075192839,\n",
       " 0.9305740987983978,\n",
       " 0.7435483870967742,\n",
       " 1.0,\n",
       " 0.7008353381448811,\n",
       " 0.6719329479665098,\n",
       " 0.5857142857142857,\n",
       " 0.8637094109519088,\n",
       " 0.8965393522293618,\n",
       " 0.8490787730306742,\n",
       " 0.7779017857142857,\n",
       " 0.7408221165127243,\n",
       " 0.8773962697912417,\n",
       " 0.911760818419731,\n",
       " 0.8116004504345989,\n",
       " 1.0,\n",
       " 0.7115568215610473,\n",
       " 0.9419520706383091,\n",
       " 0.9095964034613306,\n",
       " 0.7120753683826264,\n",
       " 0.7536795354586484,\n",
       " 0.7608844818424298,\n",
       " 0.6665268239789333,\n",
       " 0.6933631987069176,\n",
       " 0.8724294045426642,\n",
       " 0.7506660484270254,\n",
       " 0.7743025763978542,\n",
       " 0.626358695652174,\n",
       " 0.8093245951706806,\n",
       " 0.9204032338016999,\n",
       " 0.8590684759559152,\n",
       " 0.9751891831170023,\n",
       " 0.8094215436999616,\n",
       " 0.8245089928608635,\n",
       " 0.8446165841751981,\n",
       " 0.7218933613961238,\n",
       " 0.7741688091620896,\n",
       " 1.0,\n",
       " 0.860560002760334,\n",
       " 0.7935199925086618,\n",
       " 0.970060773480663,\n",
       " 0.6819595034056878,\n",
       " 0.7873276413855951,\n",
       " 0.9332380661071707,\n",
       " 0.8251457448830873,\n",
       " 0.9266032417195208,\n",
       " 0.8876307017944385,\n",
       " 0.8627216752013632,\n",
       " 0.8186180500583498,\n",
       " 0.9100048240144902]"
      ]
     },
     "execution_count": 10,
     "metadata": {},
     "output_type": "execute_result"
    }
   ],
   "source": [
    "eff"
   ]
  },
  {
   "cell_type": "code",
   "execution_count": 6,
   "id": "70be499a",
   "metadata": {},
   "outputs": [
    {
     "data": {
      "text/plain": [
       "[[25.54],\n",
       " [24.96],\n",
       " [23.12],\n",
       " [20.38],\n",
       " [16.38],\n",
       " [17.35],\n",
       " [29.49],\n",
       " [25.59],\n",
       " [24.82],\n",
       " [22.76],\n",
       " [26.13],\n",
       " [22.83],\n",
       " [24.39],\n",
       " [18.45],\n",
       " [21.53],\n",
       " [15.96],\n",
       " [23.85],\n",
       " [27.56],\n",
       " [23.51],\n",
       " [18.67],\n",
       " [18.25],\n",
       " [29.01],\n",
       " [24.91],\n",
       " [23.77],\n",
       " [25.81],\n",
       " [22.07],\n",
       " [25.53],\n",
       " [21.13],\n",
       " [18.81],\n",
       " [20.61],\n",
       " [18.94],\n",
       " [28.35],\n",
       " [24.73],\n",
       " [27.56],\n",
       " [22.04],\n",
       " [25.45],\n",
       " [23.98],\n",
       " [25.08],\n",
       " [22.41],\n",
       " [22.82],\n",
       " [15.95],\n",
       " [26.67],\n",
       " [25.0],\n",
       " [20.38],\n",
       " [22.4],\n",
       " [20.79],\n",
       " [28.35],\n",
       " [26.07],\n",
       " [23.69],\n",
       " [27.88],\n",
       " [26.05],\n",
       " [26.1],\n",
       " [24.83],\n",
       " [19.38],\n",
       " [22.37],\n",
       " [20.58],\n",
       " [23.24],\n",
       " [27.36],\n",
       " [27.65],\n",
       " [23.07],\n",
       " [23.47],\n",
       " [24.29],\n",
       " [24.16]]"
      ]
     },
     "execution_count": 6,
     "metadata": {},
     "output_type": "execute_result"
    }
   ],
   "source": [
    "Y"
   ]
  },
  {
   "cell_type": "code",
   "execution_count": 7,
   "id": "6b5dafc0",
   "metadata": {},
   "outputs": [],
   "source": [
    "eng = matlab.engine.start_matlab()"
   ]
  },
  {
   "cell_type": "code",
   "execution_count": 8,
   "id": "41837160",
   "metadata": {},
   "outputs": [],
   "source": [
    "X = matlab.double(X)\n",
    "\n",
    "Y = matlab.double(Y)"
   ]
  },
  {
   "cell_type": "code",
   "execution_count": 9,
   "id": "0b78dbf6",
   "metadata": {},
   "outputs": [
    {
     "data": {
      "text/plain": [
       "matlab.double([[25.54],[24.96],[23.12],[20.38],[16.38],[17.35],[29.49],[25.59],[24.82],[22.76],[26.13],[22.83],[24.39],[18.45],[21.53],[15.96],[23.85],[27.56],[23.51],[18.67],[18.25],[29.01],[24.91],[23.77],[25.81],[22.07],[25.53],[21.13],[18.81],[20.61],[18.94],[28.35],[24.73],[27.56],[22.04],[25.45],[23.98],[25.08],[22.41],[22.82],[15.95],[26.67],[25.0],[20.38],[22.4],[20.79],[28.35],[26.07],[23.69],[27.88],[26.05],[26.1],[24.83],[19.38],[22.37],[20.58],[23.24],[27.36],[27.65],[23.07],[23.47],[24.29],[24.16]])"
      ]
     },
     "execution_count": 9,
     "metadata": {},
     "output_type": "execute_result"
    }
   ],
   "source": [
    "Y"
   ]
  },
  {
   "cell_type": "code",
   "execution_count": 10,
   "id": "d2b500fd",
   "metadata": {},
   "outputs": [],
   "source": [
    "io_vrs_1 = eng.dea(X,Y, 'orient', 'io', 'rts', 'vrs') #dea(X, Y, 'orient', 'io', 'rts', 'vrs');"
   ]
  },
  {
   "cell_type": "code",
   "execution_count": 11,
   "id": "817b3d89",
   "metadata": {},
   "outputs": [],
   "source": [
    "efficiency = np.asarray(io_vrs_1['eff'])"
   ]
  },
  {
   "cell_type": "code",
   "execution_count": 12,
   "id": "870676fd",
   "metadata": {},
   "outputs": [
    {
     "data": {
      "text/plain": [
       "array([[0.70247533],\n",
       "       [0.73214286],\n",
       "       [0.62567325],\n",
       "       [0.56816292],\n",
       "       [1.        ],\n",
       "       [0.63248639],\n",
       "       [1.        ],\n",
       "       [0.68647403],\n",
       "       [0.72755346],\n",
       "       [0.90017987],\n",
       "       [0.68389624],\n",
       "       [0.74322473],\n",
       "       [0.96965665],\n",
       "       [0.75457811],\n",
       "       [0.9305741 ],\n",
       "       [0.74354839],\n",
       "       [1.        ],\n",
       "       [0.70083534],\n",
       "       [0.67193295],\n",
       "       [0.58571429],\n",
       "       [0.86370941],\n",
       "       [0.89653935],\n",
       "       [0.84907877],\n",
       "       [0.77790179],\n",
       "       [0.74082212],\n",
       "       [0.87739627],\n",
       "       [0.91176082],\n",
       "       [0.81160045],\n",
       "       [1.        ],\n",
       "       [0.71155682],\n",
       "       [0.94195207],\n",
       "       [0.9095964 ],\n",
       "       [0.71207537],\n",
       "       [0.75367954],\n",
       "       [0.76088448],\n",
       "       [0.66652682],\n",
       "       [0.6933632 ],\n",
       "       [0.8724294 ],\n",
       "       [0.75066605],\n",
       "       [0.77430258],\n",
       "       [0.6263587 ],\n",
       "       [0.8093246 ],\n",
       "       [0.92040323],\n",
       "       [0.85906848],\n",
       "       [0.97518918],\n",
       "       [0.80942154],\n",
       "       [0.82450899],\n",
       "       [0.84461658],\n",
       "       [0.72189336],\n",
       "       [0.77416881],\n",
       "       [1.        ],\n",
       "       [0.86056   ],\n",
       "       [0.79351999],\n",
       "       [0.97006077],\n",
       "       [0.6819595 ],\n",
       "       [0.78732764],\n",
       "       [0.93323807],\n",
       "       [0.82514574],\n",
       "       [0.92660324],\n",
       "       [0.8876307 ],\n",
       "       [0.86272168],\n",
       "       [0.81861805],\n",
       "       [0.91000482]])"
      ]
     },
     "execution_count": 12,
     "metadata": {},
     "output_type": "execute_result"
    }
   ],
   "source": [
    "efficiency"
   ]
  },
  {
   "cell_type": "code",
   "execution_count": 13,
   "id": "c78fcd3a",
   "metadata": {},
   "outputs": [],
   "source": [
    "eng.quit()"
   ]
  },
  {
   "cell_type": "code",
   "execution_count": 14,
   "id": "2526f016",
   "metadata": {},
   "outputs": [
    {
     "data": {
      "text/plain": [
       "array([[0.70247533],\n",
       "       [0.73214286],\n",
       "       [0.62567325],\n",
       "       [0.56816292],\n",
       "       [1.        ],\n",
       "       [0.63248639],\n",
       "       [1.        ],\n",
       "       [0.68647403],\n",
       "       [0.72755346],\n",
       "       [0.90017987],\n",
       "       [0.68389624],\n",
       "       [0.74322473],\n",
       "       [0.96965665],\n",
       "       [0.75457811],\n",
       "       [0.9305741 ],\n",
       "       [0.74354839],\n",
       "       [1.        ],\n",
       "       [0.70083534],\n",
       "       [0.67193295],\n",
       "       [0.58571429],\n",
       "       [0.86370941],\n",
       "       [0.89653935],\n",
       "       [0.84907877],\n",
       "       [0.77790179],\n",
       "       [0.74082212],\n",
       "       [0.87739627],\n",
       "       [0.91176082],\n",
       "       [0.81160045],\n",
       "       [1.        ],\n",
       "       [0.71155682],\n",
       "       [0.94195207],\n",
       "       [0.9095964 ],\n",
       "       [0.71207537],\n",
       "       [0.75367954],\n",
       "       [0.76088448],\n",
       "       [0.66652682],\n",
       "       [0.6933632 ],\n",
       "       [0.8724294 ],\n",
       "       [0.75066605],\n",
       "       [0.77430258],\n",
       "       [0.6263587 ],\n",
       "       [0.8093246 ],\n",
       "       [0.92040323],\n",
       "       [0.85906848],\n",
       "       [0.97518918],\n",
       "       [0.80942154],\n",
       "       [0.82450899],\n",
       "       [0.84461658],\n",
       "       [0.72189336],\n",
       "       [0.77416881],\n",
       "       [1.        ],\n",
       "       [0.86056   ],\n",
       "       [0.79351999],\n",
       "       [0.97006077],\n",
       "       [0.6819595 ],\n",
       "       [0.78732764],\n",
       "       [0.93323807],\n",
       "       [0.82514574],\n",
       "       [0.92660324],\n",
       "       [0.8876307 ],\n",
       "       [0.86272168],\n",
       "       [0.81861805],\n",
       "       [0.91000482]])"
      ]
     },
     "execution_count": 14,
     "metadata": {},
     "output_type": "execute_result"
    }
   ],
   "source": [
    "efficiency"
   ]
  },
  {
   "cell_type": "code",
   "execution_count": null,
   "id": "dfd130d0",
   "metadata": {},
   "outputs": [],
   "source": []
  }
 ],
 "metadata": {
  "kernelspec": {
   "display_name": "Python 3 (ipykernel)",
   "language": "python",
   "name": "python3"
  },
  "language_info": {
   "codemirror_mode": {
    "name": "ipython",
    "version": 3
   },
   "file_extension": ".py",
   "mimetype": "text/x-python",
   "name": "python",
   "nbconvert_exporter": "python",
   "pygments_lexer": "ipython3",
   "version": "3.8.10"
  }
 },
 "nbformat": 4,
 "nbformat_minor": 5
}
