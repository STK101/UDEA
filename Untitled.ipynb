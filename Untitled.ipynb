{
 "cells": [
  {
   "cell_type": "code",
   "execution_count": 32,
   "metadata": {},
   "outputs": [],
   "source": [
    "from rsome import ro\n",
    "from rsome import norm\n",
    "import numpy as np\n",
    "import pandas as pd\n",
    "from rsome import grb_solver as grb"
   ]
  },
  {
   "cell_type": "code",
   "execution_count": 33,
   "id": "d093130f",
   "metadata": {},
   "outputs": [],
   "source": [
    "from rsome import eco_solver as eco\n"
   ]
  },
  {
   "cell_type": "code",
   "execution_count": null,
   "id": "3a3f5f00",
   "metadata": {},
   "outputs": [],
   "source": []
  },
  {
   "cell_type": "code",
   "execution_count": 34,
   "id": "6c2a8f3c",
   "metadata": {},
   "outputs": [],
   "source": [
    "def process_dataset(path):\n",
    "    df = pd.read_csv(path, index_col= 0)\n",
    "    df['Annual Return'] = df['Annual Return'].apply(lambda x : float(x[:-1]))\n",
    "    df['Total Risk'] = df['Total Risk'].apply(lambda x : float(x[:-1]))\n",
    "    df['Abs. Win Rate'] = df['Abs. Win Rate'].apply(lambda x : 100 - float(x[:-1]))\n",
    "    if(min(df['Annual Return']) < 0):\n",
    "        df['Annual Return'] -= min(df['Annual Return'])\n",
    "    X = (df[['Total Risk','Abs. Win Rate']]).values.tolist()\n",
    "    Y = (df[['Annual Return']]).values.tolist()\n",
    "    return X,Y"
   ]
  },
  {
   "cell_type": "code",
   "execution_count": 35,
   "id": "cced3335",
   "metadata": {},
   "outputs": [],
   "source": [
    "X,Y = process_dataset('period1.csv') #D X N and D X M"
   ]
  },
  {
   "cell_type": "code",
   "execution_count": 36,
   "id": "01cd26c5",
   "metadata": {},
   "outputs": [],
   "source": [
    "def getABC(X,Y,i):\n",
    "    X_new = np.array(X).T #N X D\n",
    "    D = len(X_new[0])\n",
    "    Y_new = np.array(Y).T# M X D\n",
    "    y_i = Y_new[:,[i-1]] # in paper i from 1 to n and we follow it\n",
    "    x_i = X_new[:,[i-1]] # in paper i from 1 to n and we follow it\n",
    "    up = np.concatenate((-Y_new,y_i, np.zeros((len(Y_new),1))),axis=1)\n",
    "    low = np.concatenate((X_new,np.zeros((len(X_new),1)),-x_i),axis=1)\n",
    "    A = np.concatenate((up,low), axis = 0)\n",
    "    B = np.concatenate((np.ones((1,D)),np.zeros((1,1)), np.zeros((1,1))), axis = 1)\n",
    "    B = np.concatenate((B, np.zeros((1, D + 2))), axis = 0)\n",
    "    B[1,-2] = 1\n",
    "    C = np.zeros((D+2,1))\n",
    "    C[-1,0] = 1\n",
    "    return A, B, C"
   ]
  },
  {
   "cell_type": "code",
   "execution_count": 37,
   "id": "307b221b",
   "metadata": {},
   "outputs": [],
   "source": [
    "A,B,C = getABC(X,Y,1)"
   ]
  },
  {
   "cell_type": "code",
   "execution_count": 38,
   "id": "4a70b9fe",
   "metadata": {},
   "outputs": [],
   "source": [
    "def get_robust_efficiency(X,Y,i,sigma = [0.5]*len(A[0])):\n",
    "    A,B,C = getABC(X,Y,i)\n",
    "    model = ro.Model()\n",
    "    neta = model.dvar((len(X)+2))\n",
    "    z = [model.rvar((len(X)+2)) for i in range(len(X[0]) + len(Y[0])) ]\n",
    "    z_set0 = (norm(z[i],2) <= 1 for i in range(len(X[0]) + len(Y[0])) )\n",
    "    model.min((C.T)[0]@neta)\n",
    "    model.st(B[0]@ neta == 1,B[1] @ neta == 1 )\n",
    "    model.st(neta >= (np.zeros(len(X)+2)))\n",
    "    for x in range(len(A)):\n",
    "        A_x = A[x]\n",
    "        I = np.eye(len(A[0]))\n",
    "        model.st(((A_x + sigma[x]*(z[x])@np.eye(len(A[0])))@neta <= 0).forall(z_set0))\n",
    "        #model.st(((A_x)@neta <= 0))\n",
    "    model.solve(grb)\n",
    "    eff = (neta.get())[-1]\n",
    "    return eff"
   ]
  },
  {
   "cell_type": "code",
   "execution_count": 39,
   "id": "e27c2a9c",
   "metadata": {},
   "outputs": [
    {
     "name": "stdout",
     "output_type": "stream",
     "text": [
      "Being solved by Gurobi...\n",
      "Solution status: 2\n",
      "Running time: 0.0749s\n"
     ]
    }
   ],
   "source": [
    "score = get_robust_efficiency(X,Y,1)"
   ]
  },
  {
   "cell_type": "code",
   "execution_count": 40,
   "id": "16c98cee",
   "metadata": {},
   "outputs": [
    {
     "data": {
      "text/plain": [
       "0.812079984729967"
      ]
     },
     "execution_count": 40,
     "metadata": {},
     "output_type": "execute_result"
    }
   ],
   "source": [
    "score"
   ]
  },
  {
   "cell_type": "code",
   "execution_count": null,
   "id": "64a2ec07",
   "metadata": {},
   "outputs": [],
   "source": [
    "\n",
    "model = ro.Model()"
   ]
  },
  {
   "cell_type": "code",
   "execution_count": 11,
   "id": "0650074c",
   "metadata": {},
   "outputs": [],
   "source": [
    "neta = model.dvar((len(X)+2))"
   ]
  },
  {
   "cell_type": "code",
   "execution_count": 13,
   "id": "fd8000a3",
   "metadata": {},
   "outputs": [],
   "source": [
    "z = [model.rvar((len(X)+2)) for i in range(len(X[0]) + len(Y[0])) ]"
   ]
  },
  {
   "cell_type": "code",
   "execution_count": 14,
   "id": "a63bdcc8",
   "metadata": {},
   "outputs": [],
   "source": [
    "z_set0 = (norm(z[i],2) <= 1 for i in range(len(X[0]) + len(Y[0])) )"
   ]
  },
  {
   "cell_type": "code",
   "execution_count": 16,
   "id": "1ef52fb2",
   "metadata": {},
   "outputs": [],
   "source": [
    "model.min((C.T)[0]@neta)"
   ]
  },
  {
   "cell_type": "code",
   "execution_count": 18,
   "id": "b9f18693",
   "metadata": {},
   "outputs": [],
   "source": [
    "model.st(B[0]@ neta == 1,B[1] @ neta == 1 )"
   ]
  },
  {
   "cell_type": "code",
   "execution_count": 19,
   "id": "1e6d91dd",
   "metadata": {},
   "outputs": [],
   "source": [
    "model.st(neta >= (np.zeros(len(X)+2)))"
   ]
  },
  {
   "cell_type": "code",
   "execution_count": 20,
   "id": "55c16b45",
   "metadata": {},
   "outputs": [],
   "source": [
    "sigma = [0.5]*len(A[0])"
   ]
  },
  {
   "cell_type": "code",
   "execution_count": 21,
   "id": "7d6d87f6",
   "metadata": {},
   "outputs": [],
   "source": [
    "for x in range(len(A)):\n",
    "    A_x = A[x]\n",
    "    I = np.eye(len(A[0]))\n",
    "    model.st(((A_x + sigma[x]*(z[x])@np.eye(len(A[0])))@neta <= 0).forall(z_set0))\n",
    "    #model.st(((A_x)@neta <= 0))\n"
   ]
  },
  {
   "cell_type": "code",
   "execution_count": 25,
   "id": "637821e6",
   "metadata": {},
   "outputs": [],
   "source": [
    "from rsome import grb_solver as grb"
   ]
  },
  {
   "cell_type": "code",
   "execution_count": 26,
   "id": "bdc47490",
   "metadata": {},
   "outputs": [
    {
     "name": "stdout",
     "output_type": "stream",
     "text": [
      "Set parameter Username\n",
      "Academic license - for non-commercial use only - expires 2024-02-16\n",
      "Being solved by Gurobi...\n",
      "Solution status: 2\n",
      "Running time: 0.0866s\n"
     ]
    }
   ],
   "source": [
    "model.solve(grb)\n"
   ]
  },
  {
   "cell_type": "code",
   "execution_count": 27,
   "id": "f7e4d200",
   "metadata": {},
   "outputs": [
    {
     "data": {
      "text/plain": [
       "array([3.88450084e-10, 4.48499251e-10, 2.62963301e-10, 2.25434825e-10,\n",
       "       8.40098445e-09, 2.43797789e-10, 2.80895098e-01, 3.57195679e-10,\n",
       "       4.50115868e-10, 2.03380154e-09, 3.48471010e-10, 5.07943418e-10,\n",
       "       3.92344712e-02, 5.74924697e-10, 2.35247635e-09, 4.70837614e-10,\n",
       "       5.31115040e-10, 3.52555528e-10, 3.43133225e-10, 2.04966194e-10,\n",
       "       1.31180299e-09, 1.41280770e-09, 1.12525847e-09, 5.55190473e-10,\n",
       "       4.79329375e-10, 1.71825718e-09, 3.06938513e-09, 8.34776873e-10,\n",
       "       9.24968139e-02, 4.43113851e-10, 4.51216799e-09, 1.83773841e-09,\n",
       "       4.13935637e-10, 4.71980939e-10, 5.65344656e-10, 3.24082887e-10,\n",
       "       3.79696860e-10, 1.46969334e-09, 5.35687647e-10, 6.18427024e-10,\n",
       "       2.82457266e-10, 7.29437911e-10, 3.87728833e-09, 1.33521304e-09,\n",
       "       5.22788607e-03, 7.66025575e-10, 7.26417693e-10, 1.06070135e-09,\n",
       "       4.43570031e-10, 5.25470131e-10, 5.82145625e-01, 1.25093729e-09,\n",
       "       6.86198211e-10, 3.38979654e-08, 3.68491828e-10, 6.33744129e-10,\n",
       "       7.75117148e-09, 7.84293534e-10, 2.87994085e-09, 1.98487113e-09,\n",
       "       1.36274696e-09, 8.48462582e-10, 2.96195225e-09, 1.00000000e+00,\n",
       "       8.12079985e-01])"
      ]
     },
     "execution_count": 27,
     "metadata": {},
     "output_type": "execute_result"
    }
   ],
   "source": [
    "eff = (neta.get())[-1]"
   ]
  }
 ],
 "metadata": {
  "kernelspec": {
   "display_name": "Python 3",
   "language": "python",
   "name": "python3"
  },
  "language_info": {
   "codemirror_mode": {
    "name": "ipython",
    "version": 3
   },
   "file_extension": ".py",
   "mimetype": "text/x-python",
   "name": "python",
   "nbconvert_exporter": "python",
   "pygments_lexer": "ipython3",
   "version": "3.8.10"
  }
 },
 "nbformat": 4,
 "nbformat_minor": 5
}
