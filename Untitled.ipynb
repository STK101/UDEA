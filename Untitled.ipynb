{
 "cells": [
  {
   "cell_type": "code",
   "execution_count": 1,
   "metadata": {},
   "outputs": [],
   "source": [
    "from rsome import ro\n",
    "from rsome import norm\n",
    "import numpy as np\n",
    "import pandas as pd\n",
    "from rsome import grb_solver as grb"
   ]
  },
  {
   "cell_type": "code",
   "execution_count": 2,
   "id": "d093130f",
   "metadata": {},
   "outputs": [],
   "source": [
    "from rsome import eco_solver as eco\n"
   ]
  },
  {
   "cell_type": "code",
   "execution_count": 3,
   "id": "3a3f5f00",
   "metadata": {},
   "outputs": [],
   "source": [
    "import cvxpy as cp\n",
    "import gurobipy"
   ]
  },
  {
   "cell_type": "code",
   "execution_count": 4,
   "id": "6c2a8f3c",
   "metadata": {},
   "outputs": [],
   "source": [
    "def process_dataset(path, ds = 0):\n",
    "    X = None\n",
    "    Y = None\n",
    "    if (ds == 0):\n",
    "        df = pd.read_csv(path, index_col= 0)\n",
    "        df['Annual Return'] = df['Annual Return'].apply(lambda x : float(x[:-1]))\n",
    "        df['Total Risk'] = df['Total Risk'].apply(lambda x : float(x[:-1]))\n",
    "        df['Abs. Win Rate'] = df['Abs. Win Rate'].apply(lambda x : 100 - float(x[:-1]))\n",
    "        if(min(df['Annual Return']) < 0):\n",
    "            df['Annual Return'] -= min(df['Annual Return'])\n",
    "        X = (df[['Total Risk','Abs. Win Rate']]).values.tolist()\n",
    "        Y = (df[['Annual Return']]).values.tolist()\n",
    "    elif (ds == 1):\n",
    "        df = pd.read_csv(path, index_col= 0)\n",
    "        X = (df[[\"IP1\", \"IP2\"]]).values.tolist()\n",
    "        Y = (df[[\"OP1\", \"OP2\"]]).values.tolist()\n",
    "    return X,Y"
   ]
  },
  {
   "cell_type": "code",
   "execution_count": 38,
   "id": "cced3335",
   "metadata": {},
   "outputs": [],
   "source": [
    "X,Y = process_dataset('toy.csv', ds =1) #D X N and D X M"
   ]
  },
  {
   "cell_type": "code",
   "execution_count": 39,
   "id": "01cd26c5",
   "metadata": {},
   "outputs": [],
   "source": [
    "def getABC(X,Y,i):\n",
    "    X_new = np.array(X).T #N X D\n",
    "    D = len(X_new[0])\n",
    "    Y_new = np.array(Y).T# M X D\n",
    "    y_i = Y_new[:,[i-1]] # in paper i from 1 to n and we follow it\n",
    "    x_i = X_new[:,[i-1]] # in paper i from 1 to n and we follow it\n",
    "    up = np.concatenate((-Y_new,y_i, np.zeros((len(Y_new),1))),axis=1)\n",
    "    low = np.concatenate((X_new,np.zeros((len(X_new),1)),-x_i),axis=1)\n",
    "    A = np.concatenate((up,low), axis = 0)\n",
    "    B = np.concatenate((np.ones((1,D)),np.zeros((1,1)), np.zeros((1,1))), axis = 1)\n",
    "    B = np.concatenate((B, np.zeros((1, D + 2))), axis = 0)\n",
    "    B[1,-2] = 1\n",
    "    C = np.zeros((D+2,1))\n",
    "    C[-1,0] = 1\n",
    "    return A, B, C"
   ]
  },
  {
   "cell_type": "code",
   "execution_count": 40,
   "id": "307b221b",
   "metadata": {},
   "outputs": [],
   "source": [
    "A,B,C = getABC(X,Y,1)"
   ]
  },
  {
   "cell_type": "code",
   "execution_count": 123,
   "id": "4a70b9fe",
   "metadata": {},
   "outputs": [],
   "source": [
    "def get_robust_efficiency(X,Y,i,sigma = [0.254]*len(A[0])):\n",
    "    A,B,C = getABC(X,Y,i)\n",
    "    model = ro.Model()\n",
    "    neta = model.dvar((len(X)+2))\n",
    "    z = [model.rvar((len(X)+2)) for i in range(len(X[0]) + len(Y[0])) ]\n",
    "    z_set0 = (norm(z[i],2) <= 1 for i in range(len(X[0]) + len(Y[0])) )\n",
    "    model.min((C.T)[0]@neta)\n",
    "    model.st(B[0]@ neta == 1,B[1] @ neta == 1 )\n",
    "    model.st(neta >= (np.zeros(len(X)+2)))\n",
    "    for x in range(len(A)):\n",
    "        A_x = A[x]\n",
    "        I = np.eye(len(A[0]))\n",
    "        model.st(((A_x + sigma[x]*(z[x])@np.eye(len(A[0])))@neta <= 0).forall(z_set0))\n",
    "        #model.st(((A_x)@neta <= 0))\n",
    "    model.solve(grb)\n",
    "    eff = (neta.get())[-1]\n",
    "    return eff"
   ]
  },
  {
   "cell_type": "code",
   "execution_count": 124,
   "id": "e27c2a9c",
   "metadata": {},
   "outputs": [
    {
     "name": "stdout",
     "output_type": "stream",
     "text": [
      "Being solved by Gurobi...\n",
      "Solution status: 2\n",
      "Running time: 0.0926s\n"
     ]
    }
   ],
   "source": [
    "score = get_robust_efficiency(X,Y,1)"
   ]
  },
  {
   "cell_type": "code",
   "execution_count": 125,
   "id": "16c98cee",
   "metadata": {},
   "outputs": [
    {
     "data": {
      "text/plain": [
       "0.9122992870562273"
      ]
     },
     "execution_count": 125,
     "metadata": {},
     "output_type": "execute_result"
    }
   ],
   "source": [
    "score"
   ]
  },
  {
   "cell_type": "code",
   "execution_count": null,
   "id": "64a2ec07",
   "metadata": {},
   "outputs": [],
   "source": [
    "\n",
    "model = ro.Model()"
   ]
  },
  {
   "cell_type": "code",
   "execution_count": 11,
   "id": "0650074c",
   "metadata": {},
   "outputs": [],
   "source": [
    "neta = model.dvar((len(X)+2))"
   ]
  },
  {
   "cell_type": "code",
   "execution_count": 13,
   "id": "fd8000a3",
   "metadata": {},
   "outputs": [],
   "source": [
    "z = [model.rvar((len(X)+2)) for i in range(len(X[0]) + len(Y[0])) ]"
   ]
  },
  {
   "cell_type": "code",
   "execution_count": 14,
   "id": "a63bdcc8",
   "metadata": {},
   "outputs": [],
   "source": [
    "z_set0 = (norm(z[i],2) <= 1 for i in range(len(X[0]) + len(Y[0])) )"
   ]
  },
  {
   "cell_type": "code",
   "execution_count": 16,
   "id": "1ef52fb2",
   "metadata": {},
   "outputs": [],
   "source": [
    "model.min((C.T)[0]@neta)"
   ]
  },
  {
   "cell_type": "code",
   "execution_count": 18,
   "id": "b9f18693",
   "metadata": {},
   "outputs": [],
   "source": [
    "model.st(B[0]@ neta == 1,B[1] @ neta == 1 )"
   ]
  },
  {
   "cell_type": "code",
   "execution_count": 19,
   "id": "1e6d91dd",
   "metadata": {},
   "outputs": [],
   "source": [
    "model.st(neta >= (np.zeros(len(X)+2)))"
   ]
  },
  {
   "cell_type": "code",
   "execution_count": 20,
   "id": "55c16b45",
   "metadata": {},
   "outputs": [],
   "source": [
    "sigma = [0.5]*len(A[0])"
   ]
  },
  {
   "cell_type": "code",
   "execution_count": 21,
   "id": "7d6d87f6",
   "metadata": {},
   "outputs": [],
   "source": [
    "for x in range(len(A)):\n",
    "    A_x = A[x]\n",
    "    I = np.eye(len(A[0]))\n",
    "    model.st(((A_x + sigma[x]*(z[x])@np.eye(len(A[0])))@neta <= 0).forall(z_set0))\n",
    "    #model.st(((A_x)@neta <= 0))\n"
   ]
  },
  {
   "cell_type": "code",
   "execution_count": 25,
   "id": "637821e6",
   "metadata": {},
   "outputs": [],
   "source": [
    "from rsome import grb_solver as grb"
   ]
  },
  {
   "cell_type": "code",
   "execution_count": 26,
   "id": "bdc47490",
   "metadata": {},
   "outputs": [
    {
     "name": "stdout",
     "output_type": "stream",
     "text": [
      "Set parameter Username\n",
      "Academic license - for non-commercial use only - expires 2024-02-16\n",
      "Being solved by Gurobi...\n",
      "Solution status: 2\n",
      "Running time: 0.0866s\n"
     ]
    }
   ],
   "source": [
    "model.solve(grb)\n"
   ]
  },
  {
   "cell_type": "code",
   "execution_count": 27,
   "id": "f7e4d200",
   "metadata": {},
   "outputs": [
    {
     "data": {
      "text/plain": [
       "array([3.88450084e-10, 4.48499251e-10, 2.62963301e-10, 2.25434825e-10,\n",
       "       8.40098445e-09, 2.43797789e-10, 2.80895098e-01, 3.57195679e-10,\n",
       "       4.50115868e-10, 2.03380154e-09, 3.48471010e-10, 5.07943418e-10,\n",
       "       3.92344712e-02, 5.74924697e-10, 2.35247635e-09, 4.70837614e-10,\n",
       "       5.31115040e-10, 3.52555528e-10, 3.43133225e-10, 2.04966194e-10,\n",
       "       1.31180299e-09, 1.41280770e-09, 1.12525847e-09, 5.55190473e-10,\n",
       "       4.79329375e-10, 1.71825718e-09, 3.06938513e-09, 8.34776873e-10,\n",
       "       9.24968139e-02, 4.43113851e-10, 4.51216799e-09, 1.83773841e-09,\n",
       "       4.13935637e-10, 4.71980939e-10, 5.65344656e-10, 3.24082887e-10,\n",
       "       3.79696860e-10, 1.46969334e-09, 5.35687647e-10, 6.18427024e-10,\n",
       "       2.82457266e-10, 7.29437911e-10, 3.87728833e-09, 1.33521304e-09,\n",
       "       5.22788607e-03, 7.66025575e-10, 7.26417693e-10, 1.06070135e-09,\n",
       "       4.43570031e-10, 5.25470131e-10, 5.82145625e-01, 1.25093729e-09,\n",
       "       6.86198211e-10, 3.38979654e-08, 3.68491828e-10, 6.33744129e-10,\n",
       "       7.75117148e-09, 7.84293534e-10, 2.87994085e-09, 1.98487113e-09,\n",
       "       1.36274696e-09, 8.48462582e-10, 2.96195225e-09, 1.00000000e+00,\n",
       "       8.12079985e-01])"
      ]
     },
     "execution_count": 27,
     "metadata": {},
     "output_type": "execute_result"
    }
   ],
   "source": [
    "eff = (neta.get())[-1]"
   ]
  },
  {
   "cell_type": "code",
   "execution_count": 217,
   "id": "7621c622",
   "metadata": {},
   "outputs": [
    {
     "name": "stdout",
     "output_type": "stream",
     "text": [
      "===============================================================================\n",
      "                                     CVXPY                                     \n",
      "                                     v1.3.0                                    \n",
      "===============================================================================\n",
      "(CVXPY) Feb 27 01:24:53 PM: Your problem has 33 variables, 7 constraints, and 0 parameters.\n",
      "(CVXPY) Feb 27 01:24:53 PM: It is compliant with the following grammars: DCP, DQCP\n",
      "(CVXPY) Feb 27 01:24:53 PM: (If you need to solve this problem multiple times, but with different data, consider using parameters.)\n",
      "(CVXPY) Feb 27 01:24:53 PM: CVXPY will first compile your problem; then, it will invoke a numerical solver to obtain a solution.\n",
      "-------------------------------------------------------------------------------\n",
      "                                  Compilation                                  \n",
      "-------------------------------------------------------------------------------\n",
      "(CVXPY) Feb 27 01:24:53 PM: Compiling problem (target solver=ECOS).\n",
      "(CVXPY) Feb 27 01:24:53 PM: Reduction chain: Dcp2Cone -> CvxAttr2Constr -> ConeMatrixStuffing -> ECOS\n",
      "(CVXPY) Feb 27 01:24:53 PM: Applying reduction Dcp2Cone\n",
      "(CVXPY) Feb 27 01:24:53 PM: Applying reduction CvxAttr2Constr\n",
      "(CVXPY) Feb 27 01:24:53 PM: Applying reduction ConeMatrixStuffing\n",
      "(CVXPY) Feb 27 01:24:53 PM: Applying reduction ECOS\n",
      "(CVXPY) Feb 27 01:24:53 PM: Finished problem compilation (took 1.642e-02 seconds).\n",
      "-------------------------------------------------------------------------------\n",
      "                                Numerical solver                               \n",
      "-------------------------------------------------------------------------------\n",
      "(CVXPY) Feb 27 01:24:53 PM: Invoking solver ECOS  to obtain a solution.\n",
      "-------------------------------------------------------------------------------\n",
      "                                    Summary                                    \n",
      "-------------------------------------------------------------------------------\n",
      "(CVXPY) Feb 27 01:24:53 PM: Problem status: optimal\n",
      "\n",
      "ECOS 2.0.10 - (C) embotech GmbH, Zurich Switzerland, 2012-15. Web: www.embotech.com/ECOS\n",
      "\n",
      "It     pcost       dcost      gap   pres   dres    k/t    mu     step   sigma     IR    |   BT\n",
      " 0  +4.981e-01  +4.981e-01  +9e+01  6e-01  7e-01  1e+00  2e+00    ---    ---    1  1  - |  -  - \n",
      " 1  +8.830e-01  +9.236e-01  +3e+01  9e-02  1e-01  2e-01  8e-01  0.7234  9e-02   1  1  1 |  0  0\n",
      " 2  +9.152e-01  +9.715e-01  +2e+01  1e-02  4e-02  1e-01  4e-01  0.5119  2e-01   1  1  1 |  0  0\n",
      " 3  +8.789e-01  +9.029e-01  +9e+00  6e-03  2e-02  5e-02  3e-01  0.5970  3e-01   1  1  1 |  0  0\n",
      " 4  +8.076e-01  +8.113e-01  +3e+00  1e-03  7e-03  1e-02  8e-02  0.9802  3e-01   1  1  1 |  0  0\n",
      " 5  +7.958e-01  +7.964e-01  +5e-01  3e-04  1e-03  2e-03  2e-02  0.8383  4e-02   1  1  1 |  0  0\n",
      " 6  +7.941e-01  +7.939e-01  +2e-01  8e-05  4e-04  2e-04  5e-03  0.9890  3e-01   1  1  1 |  0  0\n",
      " 7  +7.913e-01  +7.913e-01  +7e-03  3e-06  1e-05  8e-06  2e-04  0.9632  7e-04   1  1  1 |  0  0\n",
      " 8  +7.912e-01  +7.912e-01  +8e-05  3e-08  2e-07  9e-08  2e-06  0.9890  1e-04   1  1  1 |  0  0\n",
      " 9  +7.912e-01  +7.912e-01  +1e-06  6e-10  3e-09  2e-09  4e-08  0.9825  1e-04   2  1  1 |  0  0\n",
      "10  +7.912e-01  +7.912e-01  +9e-08  4e-11  2e-10  9e-11  2e-09  0.9415  1e-03   1  1  1 |  0  0\n",
      "11  +7.912e-01  +7.912e-01  +1e-09  5e-13  3e-12  1e-12  4e-11  0.9890  4e-03   1  1  1 |  0  0\n",
      "\n",
      "OPTIMAL (within feastol=2.6e-12, reltol=1.6e-09, abstol=1.3e-09).\n",
      "Runtime: 0.000558 seconds.\n",
      "\n",
      "(CVXPY) Feb 27 01:24:53 PM: Optimal value: 7.912e-01\n",
      "(CVXPY) Feb 27 01:24:53 PM: Compilation took 1.642e-02 seconds\n",
      "(CVXPY) Feb 27 01:24:53 PM: Solver (including time spent in interface) took 8.409e-04 seconds\n"
     ]
    }
   ],
   "source": [
    "A,B,C = getABC(X,Y,1)\n",
    "neta =  cp.Variable((len(X)+2))\n",
    "sigma = [0.3603467048322489/(0.3603467048322489*(pow(len(A[0]),1/2)))]*len(A[0])#0.077130\n",
    "soc_constraints = []\n",
    "for x in range(len(A)):\n",
    "    A_x = A[x]\n",
    "    I = np.eye(len(A[0]))\n",
    "    if (x < len(Y[0])):\n",
    "        mat = np.zeros((len(X), len(A[0])))\n",
    "        np.fill_diagonal(mat,1)\n",
    "        mat[x,-2] = -1\n",
    "        soc_constraints.append(cp.SOC((-A_x.T @ neta)/sigma[x], (mat @ neta)))\n",
    "        #model.st(((A_x + sigma[x]*(z[x])@mat)@neta <= 0).forall(z_set0))\n",
    "    else:\n",
    "        mat = np.zeros((len(X), len(A[0])))\n",
    "        np.fill_diagonal(mat,1)\n",
    "        mat[x -len(Y[0]),-1] = -1\n",
    "        soc_constraints.append(cp.SOC((-A_x.T @ neta)/sigma[x], (mat @ neta)))\n",
    "        #model.st(((A_x + sigma[x]*(z[x])@mat)@neta <= 0).forall(z_set0))\n",
    "zeros =  (np.zeros(len(X)+2))\n",
    "neg_I =  -(np.eye((len(X)+2))).astype(float)\n",
    "prob = cp.Problem(cp.Minimize(((C.T)[0]).T@neta),\n",
    "                soc_constraints + [B[0].T@ neta == 1, B[1].T @ neta == 1, neg_I@neta <= zeros] )\n",
    "prob.solve(verbose=True)\n",
    "eff = (neta.value)[-1]\n"
   ]
  },
  {
   "cell_type": "code",
   "execution_count": 213,
   "id": "3a718e29",
   "metadata": {},
   "outputs": [
    {
     "data": {
      "text/plain": [
       "True"
      ]
     },
     "execution_count": 213,
     "metadata": {},
     "output_type": "execute_result"
    }
   ],
   "source": [
    "soc_constraints[0].value()"
   ]
  },
  {
   "cell_type": "code",
   "execution_count": 214,
   "id": "6ad78fa8",
   "metadata": {},
   "outputs": [
    {
     "name": "stdout",
     "output_type": "stream",
     "text": [
      "[SOC(Expression(AFFINE, UNKNOWN, (1,))), SOC(Expression(AFFINE, UNKNOWN, (1,))), SOC(Expression(AFFINE, UNKNOWN, (1,))), SOC(Expression(AFFINE, UNKNOWN, (1,)))]\n"
     ]
    }
   ],
   "source": [
    "print(soc_constraints)"
   ]
  },
  {
   "cell_type": "code",
   "execution_count": 218,
   "id": "97f3a8ee",
   "metadata": {},
   "outputs": [
    {
     "data": {
      "text/plain": [
       "0.7911643270216101"
      ]
     },
     "execution_count": 218,
     "metadata": {},
     "output_type": "execute_result"
    }
   ],
   "source": [
    "eff"
   ]
  },
  {
   "cell_type": "code",
   "execution_count": null,
   "id": "f828377b",
   "metadata": {},
   "outputs": [],
   "source": []
  }
 ],
 "metadata": {
  "kernelspec": {
   "display_name": "Python 3",
   "language": "python",
   "name": "python3"
  },
  "language_info": {
   "codemirror_mode": {
    "name": "ipython",
    "version": 3
   },
   "file_extension": ".py",
   "mimetype": "text/x-python",
   "name": "python",
   "nbconvert_exporter": "python",
   "pygments_lexer": "ipython3",
   "version": "3.8.10"
  }
 },
 "nbformat": 4,
 "nbformat_minor": 5
}
